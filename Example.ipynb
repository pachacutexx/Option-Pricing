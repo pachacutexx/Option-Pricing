{
 "cells": [
  {
   "cell_type": "markdown",
   "id": "db626d1d",
   "metadata": {},
   "source": [
    "## Convergence of Tree Methods to Black-Scholes Price\n",
    "\n",
    "The following examples illustrate how the prices of European options using binomial and trinomial tree methods converge to the Black-Scholes price as the number of steps increases. We will observe this convergence for both call and put options by plotting the prices against the number of steps.\n",
    "\n",
    "### Convergence for Call Options\n",
    "\n",
    "We will calculate the prices for a European call option with the following parameters: an underlying price of 100, a strike price of 100, a risk-free rate of 5%, a volatility of 20%, and a time to maturity of 1 year."
   ]
  },
  {
   "cell_type": "code",
   "execution_count": 1,
   "id": "627db82b",
   "metadata": {},
   "outputs": [
    {
     "ename": "ModuleNotFoundError",
     "evalue": "No module named 'src'",
     "output_type": "error",
     "traceback": [
      "\u001b[1;31m---------------------------------------------------------------------------\u001b[0m",
      "\u001b[1;31mModuleNotFoundError\u001b[0m                       Traceback (most recent call last)",
      "Cell \u001b[1;32mIn[1], line 3\u001b[0m\n\u001b[0;32m      1\u001b[0m get_ipython()\u001b[38;5;241m.\u001b[39mrun_line_magic(\u001b[38;5;124m'\u001b[39m\u001b[38;5;124mmatplotlib\u001b[39m\u001b[38;5;124m'\u001b[39m, \u001b[38;5;124m'\u001b[39m\u001b[38;5;124minline\u001b[39m\u001b[38;5;124m'\u001b[39m)\n\u001b[0;32m      2\u001b[0m \u001b[38;5;28;01mimport\u001b[39;00m \u001b[38;5;21;01mmatplotlib\u001b[39;00m\u001b[38;5;21;01m.\u001b[39;00m\u001b[38;5;21;01mpyplot\u001b[39;00m \u001b[38;5;28;01mas\u001b[39;00m \u001b[38;5;21;01mplt\u001b[39;00m\n\u001b[1;32m----> 3\u001b[0m \u001b[38;5;28;01mfrom\u001b[39;00m \u001b[38;5;21;01msrc\u001b[39;00m\u001b[38;5;21;01m.\u001b[39;00m\u001b[38;5;21;01moption_pricer\u001b[39;00m \u001b[38;5;28;01mimport\u001b[39;00m EuropeanOption\n",
      "\u001b[1;31mModuleNotFoundError\u001b[0m: No module named 'src'"
     ]
    }
   ],
   "source": [
    "import matplotlib.pyplot as plt\n",
    "from src.option_pricer import EuropeanOption\n",
    "import numpy as np\n",
    "\n",
    "# Define the parameters\n",
    "S0 = 100\n",
    "K = 100\n",
    "T = 1\n",
    "r = 0.05\n",
    "sigma = 0.2\n",
    "is_call = True\n",
    "\n",
    "# Create an instance of the EuropeanOption class\n",
    "option = EuropeanOption(S0, K, T, r, sigma, is_call)\n",
    "\n",
    "# Initialize lists to store the prices\n",
    "binomial_prices = []\n",
    "trinomial_prices = []\n",
    "steps_range = range(10, 200, 10)\n",
    "\n",
    "# Calculate the option prices for varying numbers of steps\n",
    "for steps in steps_range:\n",
    "    option.steps = steps\n",
    "    binomial_prices.append(option.price(method='binomial'))\n",
    "    trinomial_prices.append(option.price(method='trinomial'))\n",
    "\n",
    "# Calculate the Black-Scholes price\n",
    "bs_price = option.price(method='black_scholes')\n",
    "\n",
    "# Plot the results\n",
    "plt.figure(figsize=(10, 6))\n",
    "plt.plot(steps_range, binomial_prices, label='Binomial Tree Price')\n",
    "plt.plot(steps_range, trinomial_prices, label='Trinomial Tree Price')\n",
    "plt.hlines(bs_price, steps_range[0], steps_range[-1], colors='r', linestyles='dashed', label='Black-Scholes Price')\n",
    "plt.title('Convergence to Black-Scholes Price for Call Options')\n",
    "plt.xlabel('Number of Steps')\n",
    "plt.ylabel('Option Price')\n",
    "plt.legend()\n",
    "plt.show()"
   ]
  },
  {
   "cell_type": "markdown",
   "id": "e8fa614d",
   "metadata": {},
   "source": [
    "We repeat the same process for put options."
   ]
  },
  {
   "cell_type": "code",
   "execution_count": 2,
   "id": "069f7869",
   "metadata": {},
   "outputs": [
    {
     "ename": "NameError",
     "evalue": "name 'EuropeanOption' is not defined",
     "output_type": "error",
     "traceback": [
      "\u001b[1;31m---------------------------------------------------------------------------\u001b[0m",
      "\u001b[1;31mNameError\u001b[0m                                 Traceback (most recent call last)",
      "Cell \u001b[1;32mIn[2], line 4\u001b[0m\n\u001b[0;32m      1\u001b[0m is_call \u001b[38;5;241m=\u001b[39m \u001b[38;5;28;01mFalse\u001b[39;00m\n\u001b[0;32m      3\u001b[0m \u001b[38;5;66;03m# Create an instance of the EuropeanOption class\u001b[39;00m\n\u001b[1;32m----> 4\u001b[0m option \u001b[38;5;241m=\u001b[39m EuropeanOption(S0, K, T, r, sigma, is_call)\n\u001b[0;32m      6\u001b[0m \u001b[38;5;66;03m# Initialize lists to store the prices\u001b[39;00m\n\u001b[0;32m      7\u001b[0m binomial_prices \u001b[38;5;241m=\u001b[39m []\n",
      "\u001b[1;31mNameError\u001b[0m: name 'EuropeanOption' is not defined"
     ]
    }
   ],
   "source": [
    "# Set the parameter to price puts\n",
    "is_call = False\n",
    "\n",
    "# Create an instance of the EuropeanOption class\n",
    "option = EuropeanOption(S0, K, T, r, sigma, is_call)\n",
    "\n",
    "# Initialize lists to store the prices\n",
    "binomial_prices = []\n",
    "trinomial_prices = []\n",
    "steps_range = range(10, 200, 10)\n",
    "\n",
    "# Calculate the option prices for varying numbers of steps\n",
    "for steps in steps_range:\n",
    "    option.steps = steps\n",
    "    binomial_prices.append(option.price(method='binomial'))\n",
    "    trinomial_prices.append(option.price(method='trinomial'))\n",
    "\n",
    "# Calculate the Black-Scholes price\n",
    "bs_price = option.price(method='black_scholes')\n",
    "\n",
    "# Plot the results\n",
    "plt.figure(figsize=(10, 6))\n",
    "plt.plot(steps_range, binomial_prices, label='Binomial Tree Price')\n",
    "plt.plot(steps_range, trinomial_prices, label='Trinomial Tree Price')\n",
    "plt.hlines(bs_price, steps_range[0], steps_range[-1], colors='r', linestyles='dashed', label='Black-Scholes Price')\n",
    "plt.title('Convergence to Black-Scholes Price for Put Options')\n",
    "plt.xlabel('Number of Steps')\n",
    "plt.ylabel('Option Price')\n",
    "plt.legend()\n",
    "plt.show()"
   ]
  },
  {
   "cell_type": "markdown",
   "id": "9d784343",
   "metadata": {},
   "source": [
    "## Put-Call Parity\n",
    "\n",
    "Put-Call Parity is a financial principle that defines a relationship between the price of a European call option and a European put option with the same strike price, underlying asset, and expiration date. The put-call parity is a key concept in options pricing and is given by the following formula:\n",
    "\n",
    "\\[ C + PV(K) = P + S \\]\n",
    "\n",
    "Where:\n",
    "- \\(C\\) is the price of the European call option\n",
    "- \\(P\\) is the price of the European put option\n",
    "- \\(PV(K)\\) is the present value of the strike price \\(K\\), discounted at the risk-free interest rate \\(r\\)\n",
    "- \\(S\\) is the current price of the underlying asset\n",
    "\n",
    "The formula implies that buying a call and selling a put (with the same strike price and expiration) should be equivalent to holding a single forward contract on the same underlying asset with a delivery price equal to the option's strike price.\n",
    "\n",
    "In other words, if the prices do not satisfy this relationship, there would be an arbitrage opportunity, allowing traders to make a risk-free profit. The absence of such opportunities in efficient markets is what enforces the put-call parity.\n",
    "\n",
    "The concept can also be extended to consider dividends by adjusting the underlying asset price \\(S\\) for the present value of dividends expected during the life of the option.\n",
    "\n",
    "To verify the put-call parity for our options priced using the Black-Scholes model, we can use the following Python code:"
   ]
  },
  {
   "cell_type": "code",
   "execution_count": null,
   "id": "9e1b5fc4",
   "metadata": {},
   "outputs": [],
   "source": [
    "# Prices for call and put using Black-Scholes\n",
    "call_price_bs = EuropeanOption(S0, K, T, r, sigma, is_call=True).price(method='black_scholes')\n",
    "put_price_bs = EuropeanOption(S0, K, T, r, sigma, is_call=False).price(method='black_scholes')\n",
    "\n",
    "# Verifying Put-Call Parity\n",
    "put_call_parity = np.isclose(call_price_bs + K * np.exp(-r * T), put_price_bs + S0)\n",
    "\n",
    "print(f\"Put-Call Parity holds: {put_call_parity}\")"
   ]
  }
 ],
 "metadata": {
  "kernelspec": {
   "display_name": "Python 3 (ipykernel)",
   "language": "python",
   "name": "python3"
  },
  "language_info": {
   "codemirror_mode": {
    "name": "ipython",
    "version": 3
   },
   "file_extension": ".py",
   "mimetype": "text/x-python",
   "name": "python",
   "nbconvert_exporter": "python",
   "pygments_lexer": "ipython3",
   "version": "3.11.4"
  }
 },
 "nbformat": 4,
 "nbformat_minor": 5
}
